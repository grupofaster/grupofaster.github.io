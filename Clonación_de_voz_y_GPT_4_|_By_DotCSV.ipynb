{
  "nbformat": 4,
  "nbformat_minor": 0,
  "metadata": {
    "colab": {
      "provenance": [],
      "include_colab_link": true
    },
    "kernelspec": {
      "name": "python3",
      "display_name": "Python 3"
    },
    "language_info": {
      "name": "python"
    },
    "widgets": {
      "application/vnd.jupyter.widget-state+json": {
        "1a1c00c810df4adc806bfed952f4495f": {
          "model_module": "@jupyter-widgets/controls",
          "model_name": "DropdownModel",
          "model_module_version": "1.5.0",
          "state": {
            "_dom_classes": [],
            "_model_module": "@jupyter-widgets/controls",
            "_model_module_version": "1.5.0",
            "_model_name": "DropdownModel",
            "_options_labels": [
              "premade voice: Rachel",
              "premade voice: Domi",
              "premade voice: Bella",
              "premade voice: Antoni",
              "premade voice: Elli",
              "premade voice: Josh",
              "premade voice: Arnold",
              "premade voice: Adam",
              "premade voice: Sam"
            ],
            "_view_count": null,
            "_view_module": "@jupyter-widgets/controls",
            "_view_module_version": "1.5.0",
            "_view_name": "DropdownView",
            "description": "Selecciona una voz:",
            "description_tooltip": null,
            "disabled": false,
            "index": 6,
            "layout": "IPY_MODEL_b0b4e385e1fd425db5c88cac04a06925",
            "style": "IPY_MODEL_f14ce8e2eb534af09faed165d42706e6"
          }
        },
        "b0b4e385e1fd425db5c88cac04a06925": {
          "model_module": "@jupyter-widgets/base",
          "model_name": "LayoutModel",
          "model_module_version": "1.2.0",
          "state": {
            "_model_module": "@jupyter-widgets/base",
            "_model_module_version": "1.2.0",
            "_model_name": "LayoutModel",
            "_view_count": null,
            "_view_module": "@jupyter-widgets/base",
            "_view_module_version": "1.2.0",
            "_view_name": "LayoutView",
            "align_content": null,
            "align_items": null,
            "align_self": null,
            "border": null,
            "bottom": null,
            "display": null,
            "flex": null,
            "flex_flow": null,
            "grid_area": null,
            "grid_auto_columns": null,
            "grid_auto_flow": null,
            "grid_auto_rows": null,
            "grid_column": null,
            "grid_gap": null,
            "grid_row": null,
            "grid_template_areas": null,
            "grid_template_columns": null,
            "grid_template_rows": null,
            "height": null,
            "justify_content": null,
            "justify_items": null,
            "left": null,
            "margin": null,
            "max_height": null,
            "max_width": null,
            "min_height": null,
            "min_width": null,
            "object_fit": null,
            "object_position": null,
            "order": null,
            "overflow": null,
            "overflow_x": null,
            "overflow_y": null,
            "padding": null,
            "right": null,
            "top": null,
            "visibility": null,
            "width": null
          }
        },
        "f14ce8e2eb534af09faed165d42706e6": {
          "model_module": "@jupyter-widgets/controls",
          "model_name": "DescriptionStyleModel",
          "model_module_version": "1.5.0",
          "state": {
            "_model_module": "@jupyter-widgets/controls",
            "_model_module_version": "1.5.0",
            "_model_name": "DescriptionStyleModel",
            "_view_count": null,
            "_view_module": "@jupyter-widgets/base",
            "_view_module_version": "1.2.0",
            "_view_name": "StyleView",
            "description_width": ""
          }
        }
      }
    }
  },
  "cells": [
    {
      "cell_type": "markdown",
      "metadata": {
        "id": "view-in-github",
        "colab_type": "text"
      },
      "source": [
        "<a href=\"https://colab.research.google.com/github/grupofaster/grupofaster.github.io/blob/master/Clonaci%C3%B3n_de_voz_y_GPT_4_%7C_By_DotCSV.ipynb\" target=\"_parent\"><img src=\"https://colab.research.google.com/assets/colab-badge.svg\" alt=\"Open In Colab\"/></a>"
      ]
    },
    {
      "cell_type": "markdown",
      "source": [
        "# 🤖 **Usa ChatGPT con tu voz!** utilizando las APIs de OpenAI y ElevenLabs 🚀\n",
        "\n",
        "Este cuaderno te ayudará a utilizar las APIs de OpenAI y ElevenLabs para generar texto utilizando inteligencia artificial. Sigue las instrucciones para ingresar tus claves API y seleccionar una voz. Sólo tendrás que ir ejecutando paso a paso las siguientes celdas de código.\n",
        "\n",
        "📽️ *Notebook creado por [DotCSV](https://www.youtube.com/channel/UCy5znSnfMsDwaLlROnZ7Qbg) y GPT-4.*\n",
        "\n",
        "🐦 *No olvides seguirlo en [Twitter](https://twitter.com/dotCSV) para mantenerte actualizado sobre sus últimas publicaciones y proyectos.*\n"
      ],
      "metadata": {
        "id": "ak5iOoGhGn5J"
      }
    },
    {
      "cell_type": "markdown",
      "source": [
        "## **PASO 1:** Accede y regístrate a las APIs de OpenAI e ElevenLabs\n",
        "\n",
        "\n",
        "> <p>✏️ <b>Web de OpenAI</b> <i>(Generación de texto)</i>\n",
        "<br>\n",
        "<a href=\"https://platform.openai.com/account/api\">https://platform.openai.com/account/api-keys</a>\n",
        "\n",
        "> <p>🔊 <b>Web de ElevenLabs</b> <i>(Sintetización de texto a voz)</i>\n",
        "<br>\n",
        "<a href=\"https://beta.elevenlabs.io/\">https://beta.elevenlabs.io/</a>"
      ],
      "metadata": {
        "id": "giEwWFesIOT3"
      }
    },
    {
      "cell_type": "markdown",
      "source": [
        "## **PASO 2:** Configura tu acceso a la API.\n",
        "\n",
        "Obten las APIs key de ambas herramientas y añádelas al siguiente formulario. **Luego ejecuta la celda.**"
      ],
      "metadata": {
        "id": "YJzVtF1EJ7Rw"
      }
    },
    {
      "cell_type": "code",
      "source": [
        "!pip install -q openai\n",
        "!pip install -q elevenlabs\n",
        "\n",
        "import os\n",
        "import openai\n",
        "import tempfile\n",
        "import requests\n",
        "from IPython.display import Audio, clear_output\n",
        "from elevenlabs import generate, play, set_api_key, voices, Models\n",
        "\n",
        "#@title\n",
        "openai_api_key     = \"\" #@param {type:\"string\"}\n",
        "eleven_api_key = \"df5149f99d34b6dc47154546ecb3b395\" #@param {type:\"string\"}\n",
        "\n",
        "# Configure GPT-4 and Text-to-speech API keys\n",
        "openai.api_key = openai_api_key\n",
        "set_api_key(eleven_api_key)\n",
        "\n",
        "voice_list = voices()"
      ],
      "metadata": {
        "cellView": "form",
        "id": "l1vgGNPoKz-K",
        "outputId": "546c9269-c0f8-4d4e-dc13-186d47d48d91",
        "colab": {
          "base_uri": "https://localhost:8080/"
        }
      },
      "execution_count": 1,
      "outputs": [
        {
          "output_type": "stream",
          "name": "stdout",
          "text": [
            "\u001b[2K     \u001b[90m━━━━━━━━━━━━━━━━━━━━━━━━━━━━━━━━━━━━━━━━\u001b[0m \u001b[32m72.0/72.0 kB\u001b[0m \u001b[31m3.0 MB/s\u001b[0m eta \u001b[36m0:00:00\u001b[0m\n",
            "\u001b[2K     \u001b[90m━━━━━━━━━━━━━━━━━━━━━━━━━━━━━━━━━━━━━━━━\u001b[0m \u001b[32m1.0/1.0 MB\u001b[0m \u001b[31m23.6 MB/s\u001b[0m eta \u001b[36m0:00:00\u001b[0m\n",
            "\u001b[2K     \u001b[90m━━━━━━━━━━━━━━━━━━━━━━━━━━━━━━━━━━━━━━\u001b[0m \u001b[32m114.5/114.5 kB\u001b[0m \u001b[31m14.9 MB/s\u001b[0m eta \u001b[36m0:00:00\u001b[0m\n",
            "\u001b[2K     \u001b[90m━━━━━━━━━━━━━━━━━━━━━━━━━━━━━━━━━━━━━━\u001b[0m \u001b[32m268.8/268.8 kB\u001b[0m \u001b[31m32.6 MB/s\u001b[0m eta \u001b[36m0:00:00\u001b[0m\n",
            "\u001b[2K     \u001b[90m━━━━━━━━━━━━━━━━━━━━━━━━━━━━━━━━━━━━━━\u001b[0m \u001b[32m149.6/149.6 kB\u001b[0m \u001b[31m17.1 MB/s\u001b[0m eta \u001b[36m0:00:00\u001b[0m\n",
            "\u001b[2K     \u001b[90m━━━━━━━━━━━━━━━━━━━━━━━━━━━━━━━━━━━━━━━━\u001b[0m \u001b[32m1.6/1.6 MB\u001b[0m \u001b[31m21.4 MB/s\u001b[0m eta \u001b[36m0:00:00\u001b[0m\n",
            "\u001b[?25h"
          ]
        }
      ]
    },
    {
      "cell_type": "markdown",
      "source": [
        "## **PASO 3:** Selecciona la voz a utilizar.\n",
        "\n",
        "Ejecuta el código de la siguiente celda y elige la voz con la que quieres interactuar. Si has procedido a clonar tu voz en la web de *ElevenLabs*, verás incluída en la lista la voz que has creado."
      ],
      "metadata": {
        "id": "QdFOTFBPCLRp"
      }
    },
    {
      "cell_type": "code",
      "source": [
        "#@title \n",
        "import ipywidgets as widgets\n",
        "\n",
        "voice_labels = [voice.category + \" voice: \" + voice.name for voice in voice_list]\n",
        "\n",
        "voice_id_dropdown = widgets.Dropdown(\n",
        "    options=voice_labels,\n",
        "    value=voice_labels[0],\n",
        "    description=\"Selecciona una voz:\",\n",
        ")\n",
        "\n",
        "display(voice_id_dropdown)"
      ],
      "metadata": {
        "id": "qEsm4oHHMts5",
        "outputId": "25a8762f-aa25-4ad8-d3f2-1bbdba32b347",
        "colab": {
          "base_uri": "https://localhost:8080/",
          "height": 49,
          "referenced_widgets": [
            "1a1c00c810df4adc806bfed952f4495f",
            "b0b4e385e1fd425db5c88cac04a06925",
            "f14ce8e2eb534af09faed165d42706e6"
          ]
        }
      },
      "execution_count": 2,
      "outputs": [
        {
          "output_type": "display_data",
          "data": {
            "text/plain": [
              "Dropdown(description='Selecciona una voz:', options=('premade voice: Rachel', 'premade voice: Domi', 'premade …"
            ],
            "application/vnd.jupyter.widget-view+json": {
              "version_major": 2,
              "version_minor": 0,
              "model_id": "1a1c00c810df4adc806bfed952f4495f"
            }
          },
          "metadata": {}
        }
      ]
    },
    {
      "cell_type": "markdown",
      "source": [
        "## **PASO 4:** Configura e interactúa con ChatGPT\n",
        "\n",
        "Puedes elegir a continuación **con qué versión de ChatGPT quieres hablar**. Recuerda que la versión basada en GPT-4 tiene un coste superior al modelo GPT-3.5. Consulta la tabla de precios en el siguiente link antes de utilizarlo.\n",
        "\n",
        "👉 [**Tabla de precios ChatGPT**](https://openai.com/pricing)\n",
        "\n",
        "También podrá **configurar el comportamiento del modelo ChatGPT** modificando el mensaje de sistema. Actualmente te encontrarás a un chatbot un poco vacilón."
      ],
      "metadata": {
        "id": "eDrGe0JoDB7h"
      }
    },
    {
      "cell_type": "code",
      "source": [
        "#@title Configuración de ChatGPT.\n",
        "chatgpt_model = \"gpt-3.5-turbo\" #@param [\"gpt-3.5-turbo\", \"gpt-4\"]\n",
        "\n",
        "chatgpt_system = \"You are a helpful assistant on a conversation. Answer should be not too long. Be ironic and acid\" #@param {type:\"string\"}\n",
        "\n",
        "# Encuentra el índice de la opción seleccionada\n",
        "selected_voice_index = voice_labels.index(voice_id_dropdown.value)\n",
        "selected_voice_id    = voice_list[selected_voice_index].voice_id\n",
        "\n",
        "# Function to get GPT-4 response\n",
        "def get_gpt4_response(prompt):\n",
        "    response = openai.ChatCompletion.create(\n",
        "        model=chatgpt_model,\n",
        "        messages=[\n",
        "            {\"role\": \"system\", \"content\": chatgpt_system},\n",
        "            {\"role\": \"user\", \"content\": prompt}\n",
        "        ]\n",
        "    )\n",
        "    return response.choices[0].message.content\n",
        "\n",
        "# Main function to interact with GPT-4\n",
        "def interact_with_gpt4(prompt):\n",
        "    response_text = get_gpt4_response(prompt)\n",
        "\n",
        "    import requests\n",
        "\n",
        "    CHUNK_SIZE = 1024\n",
        "    url = \"https://api.elevenlabs.io/v1/text-to-speech/\" + selected_voice_id\n",
        "\n",
        "    headers = {\n",
        "      \"Accept\": \"audio/mpeg\",\n",
        "      \"Content-Type\": \"application/json\",\n",
        "      \"xi-api-key\": eleven_api_key\n",
        "    }\n",
        "\n",
        "    data = {\n",
        "      \"text\": response_text,\n",
        "      \"model_id\" : \"eleven_multilingual_v1\",\n",
        "      \"voice_settings\": {\n",
        "        \"stability\": 0.4,\n",
        "        \"similarity_boost\": 1.0\n",
        "      }\n",
        "    }\n",
        "\n",
        "    response = requests.post(url, json=data, headers=headers)\n",
        "    \n",
        "    # Save audio data to a temporary file\n",
        "    with tempfile.NamedTemporaryFile(delete=False, suffix=\".mp3\") as f:\n",
        "        for chunk in response.iter_content(chunk_size=CHUNK_SIZE):\n",
        "            if chunk:\n",
        "                f.write(chunk)\n",
        "        f.flush()\n",
        "        temp_filename = f.name\n",
        "\n",
        "    return temp_filename\n",
        "\n",
        "# Function to continuously interact with GPT-4\n",
        "def continuous_interaction():\n",
        "    while True:\n",
        "        clear_output(wait=True)\n",
        "        prompt = input(\"Enter your prompt (or type 'exit' to stop): \")\n",
        "        if prompt.lower() == 'exit':\n",
        "            break\n",
        "        audio_file = interact_with_gpt4(prompt)\n",
        "        play(audio_file, notebook=True)\n",
        "\n",
        "# Example usage\n",
        "continuous_interaction()"
      ],
      "metadata": {
        "colab": {
          "base_uri": "https://localhost:8080/"
        },
        "id": "UtHp8FwaDt-V",
        "outputId": "aa4b6ddd-113a-410d-e628-f5ef75eedafa"
      },
      "execution_count": null,
      "outputs": [
        {
          "name": "stdout",
          "output_type": "stream",
          "text": [
            "Enter your prompt (or type 'exit' to stop): exit\n"
          ]
        }
      ]
    }
  ]
}